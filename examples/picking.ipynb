{
 "cells": [
  {
   "cell_type": "markdown",
   "id": "d07afbc3",
   "metadata": {},
   "source": [
    "# Intro to using the PyShot Picker Tool\n",
    "The PyShot picker tool is a tool for picking seismic events in a seismic signal. It is designed to be used with stream objects from the ObsPy library. \n",
    "\n",
    "First we import the PyShot package, as well as some other useful ones"
   ]
  },
  {
   "cell_type": "code",
   "execution_count": null,
   "id": "c1a08993",
   "metadata": {},
   "outputs": [],
   "source": [
    "import pyshot\n",
    "import numpy as np\n",
    "import matplotlib as mpl\n",
    "import matplotlib.pyplot as plt\n",
    "\n",
    "# Next we import the data we are interested in picking"
   ]
  },
  {
   "cell_type": "markdown",
   "id": "c2f546cc",
   "metadata": {},
   "source": [
    "Next we import the data we are interested in picking"
   ]
  },
  {
   "cell_type": "code",
   "execution_count": null,
   "id": "6e81044e",
   "metadata": {},
   "outputs": [],
   "source": [
    "seismic_data = pyshot.load.load_segy.loadshots(\"./sample_data/\")"
   ]
  },
  {
   "cell_type": "markdown",
   "id": "16c395b7",
   "metadata": {},
   "source": [
    "This creates a dictionary of stream objects, where the keys are the names of the files and the values are the stream objects containing all the traces in that file.\n",
    "\n",
    "We can now plot the data to see what we are working with using the ObsPy plot function"
   ]
  },
  {
   "cell_type": "code",
   "execution_count": null,
   "id": "fce09bd1",
   "metadata": {},
   "outputs": [],
   "source": [
    "seismic_data['33.su'].plot(type='section', scale=1, time_down=True, fillcolors=('blue', 'red'), color='black',\n",
    "                size=(600, 800))"
   ]
  },
  {
   "cell_type": "markdown",
   "id": "45b05425",
   "metadata": {},
   "source": [
    "We can do some early processing of the data now to make picking easier and accurate.\n",
    "We will demean and taper the data:"
   ]
  },
  {
   "cell_type": "code",
   "execution_count": null,
   "id": "7ef8ebdd",
   "metadata": {},
   "outputs": [],
   "source": [
    "for filename, stream in seismic_data.items():\n",
    "    starttime = stream[0].stats.starttime\n",
    "    stream.trim(starttime, starttime + 0.3) # This trims the data to the first 0.3 seconds\n",
    "    for trace in stream:\n",
    "        trace.detrend('linear')\n",
    "        trace.detrend('demean')\n",
    "        # trace.filter('bandpass', freqmin=10, freqmax=500, corners=4, zerophase=True)\n",
    "        trace.data = np.require(trace.data, dtype=np.float32) # This fixes some issues with the data type"
   ]
  },
  {
   "cell_type": "code",
   "execution_count": null,
   "id": "4e53f559",
   "metadata": {},
   "outputs": [],
   "source": [
    "# Now produce a spectrogram of the data to see what we are working with\n",
    "#import numpy as np\n",
    "#from scipy import signal\n",
    "#\n",
    "#stream = seismic_data['33.su']\n",
    "#fig, axes = plt.subplots(nrows=len(stream), ncols=1, figsize=(10, 5*len(stream)))\n",
    "#\n",
    "#for i, tr in enumerate(stream):\n",
    "#    # Use raw data without AGC\n",
    "#    f, t, Sxx = signal.spectrogram(tr.data, fs=tr.stats.sampling_rate, nperseg=256, noverlap=128)\n",
    "#    \n",
    "#    # Apply stronger logarithmic scaling to enhance faint signals even more\n",
    "#    Sxx_log = np.log1p(Sxx * 1000)  # Multiply by 1000 before log to boost faint signals\n",
    "#    \n",
    "#    # Normalize each time slice to further emphasize faint signals at later times\n",
    "#    Sxx_norm = Sxx_log / np.max(Sxx_log, axis=0)\n",
    "#    \n",
    "#    # Use a colormap that emphasizes high-frequency content and faint signals\n",
    "#    im = axes[i].pcolormesh(t, f, Sxx_norm, shading='gouraud', cmap='viridis', vmin=0, vmax=1)\n",
    "#    axes[i].set_ylabel('Frequency [Hz]')\n",
    "#    axes[i].set_title(f'Trace {i+1}')\n",
    "#    \n",
    "#    # Add colorbar to show intensity scale\n",
    "#    plt.colorbar(im, ax=axes[i], label='Normalized Log(Power)')\n",
    "#    \n",
    "#    # Adjust y-axis to focus on higher frequencies where faint signals might be\n",
    "#    axes[i].set_ylim(0, 500)  # Adjust this value as needed\n",
    "#\n",
    "#axes[-1].set_xlabel('Time [sec]')\n",
    "#for ax in axes:\n",
    "#    ax.set_ylim(0, 500)  # Increase y-axis limit to 1000 Hz to show higher frequencies\n",
    "#plt.tight_layout()\n",
    "#plt.show()"
   ]
  },
  {
   "cell_type": "markdown",
   "id": "a3c46043",
   "metadata": {},
   "source": [
    "Now let's try and pick the data using the PyShot picker tool. The UI may behave differently depending on your operating system, but it should pop up in a separate window. \n",
    "\n",
    "The shortcut keys are as follows:\n",
    "\n",
    "'x' - toggles picking mode on and off\n",
    "\n",
    "'m' - decreases the amplitude scale of the plot\n",
    "\n",
    "'n' - increases the amplitude scale of the plot\n",
    "\n",
    "'j' - decreases the clip value of the plot slightly\n",
    "\n",
    "'k' - increases the clip value of the plot slightly\n",
    "\n",
    "'u' - increases the clip value of the plot by a factor of 2\n",
    "\n",
    "'i' - decreases the clip value of the plot by a factor of 2\n",
    "\n",
    "'v' - saves all picks to 2 csv files: one for primary arrivals, and one for secondary arrivals\n",
    "\n",
    "'c' - saves just primary arrivals to a csv file. This is useful for firn density analysis when some direct arrivals are not accompanied by reflected arrivals, and you want to save direct-reflected arrival pick pairs separately from a larger set of direct arrival picks for firn density analysis.\n"
   ]
  },
  {
   "cell_type": "code",
   "execution_count": null,
   "id": "1f9f6349",
   "metadata": {},
   "outputs": [],
   "source": [
    "mpl.use('QtAgg')\n",
    "\n",
    "# Pick the data\n",
    "pyshot.pick.picker.Pick(seismic_data['33.su'], filename=\"33.su\", outfile=\"pick_outputs/33_picks.csv\")"
   ]
  }
 ],
 "metadata": {
  "kernelspec": {
   "display_name": "Python 3",
   "language": "python",
   "name": "python3"
  },
  "language_info": {
   "codemirror_mode": {
    "name": "ipython",
    "version": 3
   },
   "file_extension": ".py",
   "mimetype": "text/x-python",
   "name": "python",
   "nbconvert_exporter": "python",
   "pygments_lexer": "ipython3",
   "version": "3.12.5"
  }
 },
 "nbformat": 4,
 "nbformat_minor": 5
}
